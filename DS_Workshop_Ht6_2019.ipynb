{
  "nbformat": 4,
  "nbformat_minor": 0,
  "metadata": {
    "colab": {
      "name": "DS Workshop - Ht6 2019",
      "version": "0.3.2",
      "provenance": [],
      "collapsed_sections": [
        "HUHOI6LFXkqo",
        "V8EkNuFiXkqo",
        "Vm2RhcUPXkrI"
      ],
      "include_colab_link": true
    },
    "kernelspec": {
      "display_name": "Python 3",
      "language": "python",
      "name": "python3"
    }
  },
  "cells": [
    {
      "cell_type": "markdown",
      "metadata": {
        "id": "view-in-github",
        "colab_type": "text"
      },
      "source": [
        "<a href=\"https://colab.research.google.com/github/Jamar-Mitchell/AE-Applications-Web-App/blob/master/DS_Workshop_Ht6_2019.ipynb\" target=\"_parent\"><img src=\"https://colab.research.google.com/assets/colab-badge.svg\" alt=\"Open In Colab\"/></a>"
      ]
    },
    {
      "cell_type": "markdown",
      "metadata": {
        "id": "0UZ5mDIMXkqi",
        "colab_type": "text"
      },
      "source": [
        "# Exploring the Toronto Open311 Dataset"
      ]
    },
    {
      "cell_type": "markdown",
      "metadata": {
        "id": "TzC8I6u0wIPr",
        "colab_type": "text"
      },
      "source": [
        "By [Matthew Reyes](https://www.linkedin.com/in/matthewnoahreyes/) \\\\\n",
        "Co-founder @ Hypotenuse Labs \\\\\n",
        "matt@hypotenuse.ca"
      ]
    },
    {
      "cell_type": "markdown",
      "metadata": {
        "id": "pkIzHT0hXkqj",
        "colab_type": "text"
      },
      "source": [
        "This workshop focuses on exploring data with Python.\n",
        "\n",
        "The dataset we'll be looking at is from the [Toronto Open311 API](https://www.toronto.ca/home/311-toronto-at-your-service/). Open311 is an open standard for civic issue tracking, and has been used in cities such as Toronto, Chicago, and Boston.\n",
        "\n",
        "The main library we'll use is `pandas`, a Python library for data manipulation and analysis. We'll also import a few other useful libraries here.\n"
      ]
    },
    {
      "cell_type": "code",
      "metadata": {
        "id": "ICvD8VSZXkqj",
        "colab_type": "code",
        "colab": {}
      },
      "source": [
        "import numpy as np\n",
        "import pandas as pd\n",
        "import json\n",
        "import requests\n",
        "import datetime as dt\n",
        "from datetime import datetime\n",
        "import dateutil.parser\n",
        "pd.set_option('display.max_rows', 15)\n",
        "pd.set_option('display.max_columns', 100)"
      ],
      "execution_count": 0,
      "outputs": []
    },
    {
      "cell_type": "markdown",
      "metadata": {
        "id": "Os1yNrjLXkrQ",
        "colab_type": "text"
      },
      "source": [
        "## Download the Dataset"
      ]
    },
    {
      "cell_type": "markdown",
      "metadata": {
        "id": "9GLTgQU4z2Ly",
        "colab_type": "text"
      },
      "source": [
        "Let's read the dataset into a table.\n",
        "\n",
        "In the `pandas` library, we'll use the *DataFrame* object. A DataFrame is a 2D tabular data structure - we'll see shortly how we can aggregate and summarize it.\n",
        "\n",
        "For this workshop's convenience, I've already retrieved about 10 years worth of service requests. More details on how this was done in the Appendix section of this notebook.\n",
        "\n",
        "Before proceeding, it might be helpful to take a look at our data's [documentation](https://open.toronto.ca/dataset/311-open311-api-calls-for-service-requests/)."
      ]
    },
    {
      "cell_type": "code",
      "metadata": {
        "id": "vBtgiUBQXkrR",
        "colab_type": "code",
        "colab": {}
      },
      "source": [
        "!wget https://github.com/mattreyes/toronto-open311-data/raw/master/toronto311_2009_2018.csv"
      ],
      "execution_count": 0,
      "outputs": []
    },
    {
      "cell_type": "code",
      "metadata": {
        "id": "OOn7p1Y_cyoR",
        "colab_type": "code",
        "colab": {}
      },
      "source": [
        "%ls"
      ],
      "execution_count": 0,
      "outputs": []
    },
    {
      "cell_type": "markdown",
      "metadata": {
        "id": "dRIKIHFxP1L-",
        "colab_type": "text"
      },
      "source": [
        "Let's try to see what the file looks like."
      ]
    },
    {
      "cell_type": "code",
      "metadata": {
        "id": "FEkW-svIOd6M",
        "colab_type": "code",
        "colab": {}
      },
      "source": [
        "# Print out the first 10 rows\n",
        "import csv\n",
        "with open('toronto311_2009_2018.csv') as csvfile:\n",
        "    reader = csv.reader(csvfile)\n",
        "    for i, row in enumerate(reader):\n",
        "        print(row)\n",
        "        if(i >= 9):\n",
        "            break"
      ],
      "execution_count": 0,
      "outputs": []
    },
    {
      "cell_type": "markdown",
      "metadata": {
        "id": "YFkfHJUMQOpA",
        "colab_type": "text"
      },
      "source": [
        "Thankfully, pandas has a much faster way of reading an entire CSV dataset at once. We save the data to the variable `df` - a Pandas data structure."
      ]
    },
    {
      "cell_type": "code",
      "metadata": {
        "id": "JPFPNRZycx76",
        "colab_type": "code",
        "colab": {}
      },
      "source": [
        "df = pd.read_csv('toronto311_2009_2018.csv')"
      ],
      "execution_count": 0,
      "outputs": []
    },
    {
      "cell_type": "markdown",
      "metadata": {
        "id": "KkHhU_EOXkrU",
        "colab_type": "text"
      },
      "source": [
        "## Selecting Data"
      ]
    },
    {
      "cell_type": "markdown",
      "metadata": {
        "id": "LadNHMm4XkrV",
        "colab_type": "text"
      },
      "source": [
        "With data loaded into our Colab filesystem, we can begin to profile it.\n",
        "\n",
        "We can look at the 'head' or 'tail' of the dataset - the first or last $k$ rows of the dataset, respectively."
      ]
    },
    {
      "cell_type": "code",
      "metadata": {
        "id": "W5wFnklSXkrY",
        "colab_type": "code",
        "colab": {}
      },
      "source": [
        "df.head(5)"
      ],
      "execution_count": 0,
      "outputs": []
    },
    {
      "cell_type": "code",
      "metadata": {
        "id": "SSNgklUNXkra",
        "colab_type": "code",
        "colab": {}
      },
      "source": [
        "df.tail(3)"
      ],
      "execution_count": 0,
      "outputs": []
    },
    {
      "cell_type": "code",
      "metadata": {
        "id": "Y6fWWQdxXkrc",
        "colab_type": "code",
        "colab": {}
      },
      "source": [
        "# How many rows and columns does df have?\n",
        "df.shape"
      ],
      "execution_count": 0,
      "outputs": []
    },
    {
      "cell_type": "code",
      "metadata": {
        "id": "bQ7KEfcnXkre",
        "colab_type": "code",
        "colab": {}
      },
      "source": [
        "# What columns does df have?\n",
        "df.columns"
      ],
      "execution_count": 0,
      "outputs": []
    },
    {
      "cell_type": "markdown",
      "metadata": {
        "id": "8F0drJ1DXkrh",
        "colab_type": "text"
      },
      "source": [
        "### Column Selection"
      ]
    },
    {
      "cell_type": "markdown",
      "metadata": {
        "id": "7F7u7_QQXkri",
        "colab_type": "text"
      },
      "source": [
        "To select a single column from a dataframe:"
      ]
    },
    {
      "cell_type": "code",
      "metadata": {
        "id": "od1Qqj37Xkrj",
        "colab_type": "code",
        "colab": {}
      },
      "source": [
        "df['address']"
      ],
      "execution_count": 0,
      "outputs": []
    },
    {
      "cell_type": "code",
      "metadata": {
        "id": "3XYemlZCXkrr",
        "colab_type": "code",
        "colab": {}
      },
      "source": [
        "# To select a subset of columns, pass in a list of column names\n",
        "df[['address', 'address_id']]"
      ],
      "execution_count": 0,
      "outputs": []
    },
    {
      "cell_type": "code",
      "metadata": {
        "id": "C0tDrGyIXkrt",
        "colab_type": "code",
        "colab": {}
      },
      "source": [
        "# The list can be a variable\n",
        "some_cols = ['service_request_id', 'requested_datetime', 'service_name', 'address']\n",
        "\n",
        "df[some_cols]"
      ],
      "execution_count": 0,
      "outputs": []
    },
    {
      "cell_type": "code",
      "metadata": {
        "id": "IPyM3sc-cKsr",
        "colab_type": "code",
        "colab": {}
      },
      "source": [
        "# Saving the subset of df to a variable\n",
        "df_some_cols = df[some_cols]\n",
        "df_some_cols"
      ],
      "execution_count": 0,
      "outputs": []
    },
    {
      "cell_type": "markdown",
      "metadata": {
        "id": "Qb_dqHQ4Xkrv",
        "colab_type": "text"
      },
      "source": [
        "Exercise:\n",
        "\n",
        "1. Select the `requested_datetime` column. What do you see?\n",
        "2. Select the `description` column. What do you see?"
      ]
    },
    {
      "cell_type": "code",
      "metadata": {
        "id": "Ol7IoBwedBre",
        "colab_type": "code",
        "colab": {}
      },
      "source": [
        "# EXERCISE 1\n",
        "\n",
        "# YOUR CODE HERE"
      ],
      "execution_count": 0,
      "outputs": []
    },
    {
      "cell_type": "code",
      "metadata": {
        "id": "m01YYNd0h0kw",
        "colab_type": "code",
        "colab": {}
      },
      "source": [
        "# EXERCISE 2\n",
        "\n",
        "# YOUR CODE HERE"
      ],
      "execution_count": 0,
      "outputs": []
    },
    {
      "cell_type": "markdown",
      "metadata": {
        "id": "M3RywoBKXkrv",
        "colab_type": "text"
      },
      "source": [
        "### Row Selection\n",
        "A general formula for selecting a subset of rows: `DataFrame[boolean_expression]`"
      ]
    },
    {
      "cell_type": "code",
      "metadata": {
        "id": "WMH7FGeZXkrw",
        "colab_type": "code",
        "colab": {}
      },
      "source": [
        "# Example of a boolean array\n",
        "df['service_name'] == 'Road - Pot hole'"
      ],
      "execution_count": 0,
      "outputs": []
    },
    {
      "cell_type": "code",
      "metadata": {
        "id": "V-lhk3_gXkry",
        "colab_type": "code",
        "colab": {}
      },
      "source": [
        "# Select rows where service_name is 'Road - Pot hole'\n",
        "criteria = df['service_name'] == 'Road - Pot hole'\n",
        "\n",
        "df[criteria]"
      ],
      "execution_count": 0,
      "outputs": []
    },
    {
      "cell_type": "code",
      "metadata": {
        "scrolled": true,
        "id": "yJZ-_bXJXkrz",
        "colab_type": "code",
        "colab": {}
      },
      "source": [
        "# Select incomplete requests\n",
        "\n",
        "criteria2 = df['status_notes'] != 'Completed - The request has been concluded.'\n",
        "\n",
        "df[criteria2]"
      ],
      "execution_count": 0,
      "outputs": []
    },
    {
      "cell_type": "code",
      "metadata": {
        "id": "_eJLxPs9tLUl",
        "colab_type": "code",
        "colab": {}
      },
      "source": [
        "# Aside: selection of rows from anywhere\n",
        "\n",
        "# Select by index\n",
        "df_aside = df.loc[100:105]\n",
        "\n",
        "# Select by row number\n",
        "df.iloc[-1]\n",
        "\n",
        "df_aside.reset_index()"
      ],
      "execution_count": 0,
      "outputs": []
    },
    {
      "cell_type": "markdown",
      "metadata": {
        "id": "sQkaBl53Xkr1",
        "colab_type": "text"
      },
      "source": [
        "##### Exercises\n",
        "\n",
        "1. Select all requests which have been closed.\n",
        "2. Select all requests which aren't related to pot holes.\n",
        "3. Select all requests which are missing an address. Hint: use the `isnull()` method on a column."
      ]
    },
    {
      "cell_type": "code",
      "metadata": {
        "id": "f2_JBmkhdFFw",
        "colab_type": "code",
        "colab": {}
      },
      "source": [
        "# EXERCISE 1\n",
        "\n",
        "# YOUR CODE HERE"
      ],
      "execution_count": 0,
      "outputs": []
    },
    {
      "cell_type": "code",
      "metadata": {
        "id": "sio44yTVohI_",
        "colab_type": "code",
        "colab": {}
      },
      "source": [
        "# EXERCISE 2\n",
        "\n",
        "# YOUR CODE HERE"
      ],
      "execution_count": 0,
      "outputs": []
    },
    {
      "cell_type": "code",
      "metadata": {
        "id": "uCedlqrUohMi",
        "colab_type": "code",
        "colab": {}
      },
      "source": [
        "# EXERCISE 3\n",
        "\n",
        "# YOUR CODE HERE"
      ],
      "execution_count": 0,
      "outputs": []
    },
    {
      "cell_type": "markdown",
      "metadata": {
        "id": "z0acfOGvXkr2",
        "colab_type": "text"
      },
      "source": [
        "### Counting Nulls\n",
        "\n",
        "Based on looking at a few rows, a lot of columns can contain *null* values. Let's get an idea of how many null values are in each column. \n",
        "\n",
        "In Python, null values might look like `NaN` (not a number) or `None`. Null values might occur if we are missing info for that particular field, or if that column doesn't apply to it.\n",
        "\n"
      ]
    },
    {
      "cell_type": "code",
      "metadata": {
        "id": "0s4awMAoXkr2",
        "colab_type": "code",
        "colab": {}
      },
      "source": [
        "df.info()"
      ],
      "execution_count": 0,
      "outputs": []
    },
    {
      "cell_type": "markdown",
      "metadata": {
        "id": "gRg9ZivUXkr4",
        "colab_type": "text"
      },
      "source": [
        "Viewing all the unique values a column takes on can also be informative."
      ]
    },
    {
      "cell_type": "code",
      "metadata": {
        "id": "thgWd1dHXkr5",
        "colab_type": "code",
        "colab": {}
      },
      "source": [
        "df['service_name'].unique()"
      ],
      "execution_count": 0,
      "outputs": []
    },
    {
      "cell_type": "markdown",
      "metadata": {
        "id": "YUUUBXzgXkr8",
        "colab_type": "text"
      },
      "source": [
        "Exercises:\n",
        "\n",
        "1. Look at the unique list of values for `status_notes`. What do you notice?\n",
        "2. Look at the unique list of values for `agency_responsible`. What do you notice?\n",
        "3. Pick any other column and look at the list of unique values. What do you notice?\n"
      ]
    },
    {
      "cell_type": "code",
      "metadata": {
        "id": "WDpnZ3uMGe4z",
        "colab_type": "code",
        "colab": {}
      },
      "source": [
        "# EXERCISE 1\n",
        "\n",
        "# YOUR CODE HERE"
      ],
      "execution_count": 0,
      "outputs": []
    },
    {
      "cell_type": "code",
      "metadata": {
        "id": "w_l9-WMjGgTG",
        "colab_type": "code",
        "colab": {}
      },
      "source": [
        "# EXERCISE 2\n",
        "\n",
        "# YOUR CODE HERE"
      ],
      "execution_count": 0,
      "outputs": []
    },
    {
      "cell_type": "code",
      "metadata": {
        "id": "rk27JIbKGgkz",
        "colab_type": "code",
        "colab": {}
      },
      "source": [
        "# EXERCISE 3\n",
        "\n",
        "# YOUR CODE HERE"
      ],
      "execution_count": 0,
      "outputs": []
    },
    {
      "cell_type": "markdown",
      "metadata": {
        "id": "nX2aASUKXkr9",
        "colab_type": "text"
      },
      "source": [
        "## Converting a column of date strings"
      ]
    },
    {
      "cell_type": "markdown",
      "metadata": {
        "id": "WuZT9mFQXkr-",
        "colab_type": "text"
      },
      "source": [
        "The three columns with a timestamp are actually strings. If we want to perform operations with them we'd need to convert them to a `datetime` type."
      ]
    },
    {
      "cell_type": "code",
      "metadata": {
        "id": "oDtELmpjk5yg",
        "colab_type": "code",
        "colab": {}
      },
      "source": [
        "df['requested_datetime'].head()"
      ],
      "execution_count": 0,
      "outputs": []
    },
    {
      "cell_type": "markdown",
      "metadata": {
        "id": "MzpwtLbVP2oI",
        "colab_type": "text"
      },
      "source": [
        "These timestamps are actually ISO8601 timestamps. More info on these [here](https://www.w3.org/TR/NOTE-datetime).\n",
        "\n",
        "For example, `1994-11-05T08:15:30-05:00` corresponds to November 5, 1994, 8:15:30 am, US Eastern Standard Time."
      ]
    },
    {
      "cell_type": "code",
      "metadata": {
        "id": "tnD5sQ6tXksF",
        "colab_type": "code",
        "colab": {}
      },
      "source": [
        "# Example: converting 'requested_datetime' to a datetime type\n",
        "\n",
        "pd.to_datetime(df['requested_datetime'][9000:10000]).dt.tz_convert('US/Eastern')"
      ],
      "execution_count": 0,
      "outputs": []
    },
    {
      "cell_type": "code",
      "metadata": {
        "id": "Z8zbFTkxA0Qa",
        "colab_type": "code",
        "colab": {}
      },
      "source": [
        "df.head(2)"
      ],
      "execution_count": 0,
      "outputs": []
    },
    {
      "cell_type": "markdown",
      "metadata": {
        "id": "TyTpeximXksH",
        "colab_type": "text"
      },
      "source": [
        "## Adding columns"
      ]
    },
    {
      "cell_type": "markdown",
      "metadata": {
        "id": "rx9c6LO7XksI",
        "colab_type": "text"
      },
      "source": [
        "Silly example: adding a new column called `'lmao'` consisting of all 1's:"
      ]
    },
    {
      "cell_type": "code",
      "metadata": {
        "scrolled": true,
        "id": "1arhDqZFXksJ",
        "colab_type": "code",
        "colab": {}
      },
      "source": [
        "df['lmao'] = 1\n",
        "df.head(10)"
      ],
      "execution_count": 0,
      "outputs": []
    },
    {
      "cell_type": "markdown",
      "metadata": {
        "id": "IkpJjH9ZLxcc",
        "colab_type": "text"
      },
      "source": [
        "This is a pretty useless column so let's drop it."
      ]
    },
    {
      "cell_type": "code",
      "metadata": {
        "id": "A7FvZXjhLz3c",
        "colab_type": "code",
        "colab": {}
      },
      "source": [
        "df.drop(columns='lmao', inplace=True)"
      ],
      "execution_count": 0,
      "outputs": []
    },
    {
      "cell_type": "code",
      "metadata": {
        "id": "puR8dxgGMZoj",
        "colab_type": "code",
        "colab": {}
      },
      "source": [
        "df.head(2)"
      ],
      "execution_count": 0,
      "outputs": []
    },
    {
      "cell_type": "code",
      "metadata": {
        "id": "kA5PxPqXoe0i",
        "colab_type": "code",
        "colab": {}
      },
      "source": [
        "df.drop(columns='agency_responsible', inplace=True)"
      ],
      "execution_count": 0,
      "outputs": []
    },
    {
      "cell_type": "code",
      "metadata": {
        "id": "uJ3VlFAgojeA",
        "colab_type": "code",
        "colab": {}
      },
      "source": [
        "df.columns"
      ],
      "execution_count": 0,
      "outputs": []
    },
    {
      "cell_type": "markdown",
      "metadata": {
        "id": "jOI6aro_XksK",
        "colab_type": "text"
      },
      "source": [
        "A more practical example: add in the 3 converted timestamp columns."
      ]
    },
    {
      "cell_type": "code",
      "metadata": {
        "id": "epPLYRgbXksL",
        "colab_type": "code",
        "colab": {}
      },
      "source": [
        "# Timestamp conversions\n",
        "df['requested_datetime_conv'] = pd.to_datetime(df['requested_datetime'], utc=True).dt.tz_convert('US/Eastern')\n",
        "df['expected_datetime_conv'] = pd.to_datetime(df['expected_datetime'], utc=True).dt.tz_convert('US/Eastern')\n",
        "df['updated_datetime_conv'] = pd.to_datetime(df['updated_datetime'], utc=True).dt.tz_convert('US/Eastern')\n",
        "# Dropping rid of any erroneous columns (this step is needed for later)\n",
        "df = df[df['requested_datetime_conv'].notnull()]"
      ],
      "execution_count": 0,
      "outputs": []
    },
    {
      "cell_type": "markdown",
      "metadata": {
        "id": "uYeQ45jCXksM",
        "colab_type": "text"
      },
      "source": [
        "Now for closed requests, we can calculate how long it took to close (in hours).\n",
        "\n",
        "When we subtract two dates we get a `timedelta` object. We then get the total number of seconds between those two dates and convert to **number of days**."
      ]
    },
    {
      "cell_type": "code",
      "metadata": {
        "id": "MZjwttj2XksN",
        "colab_type": "code",
        "colab": {}
      },
      "source": [
        "df_closed = df[df['status'] == 'closed']\n",
        "\n",
        "df['actual_completion_time'] = (df_closed['updated_datetime_conv'] - df_closed['requested_datetime_conv']).dt.total_seconds()/60/60/24\n",
        "df['est_completion_time'] = (df_closed['expected_datetime_conv'] - df_closed['requested_datetime_conv']).dt.total_seconds()/60/60/24"
      ],
      "execution_count": 0,
      "outputs": []
    },
    {
      "cell_type": "code",
      "metadata": {
        "id": "ho3llm6bXksO",
        "colab_type": "code",
        "colab": {}
      },
      "source": [
        "df[df['status'] != 'closed'].head(3)"
      ],
      "execution_count": 0,
      "outputs": []
    },
    {
      "cell_type": "code",
      "metadata": {
        "id": "AWcYSDXlR3i9",
        "colab_type": "code",
        "colab": {}
      },
      "source": [
        "df[df['status'] == 'closed'].head(3)"
      ],
      "execution_count": 0,
      "outputs": []
    },
    {
      "cell_type": "markdown",
      "metadata": {
        "id": "GCmNZr0mXksY",
        "colab_type": "text"
      },
      "source": [
        "##### Exercise:\n",
        "\n",
        "Add a column called `dayofweek` that encodes the day-of-week that the request occurred. (i.e. Mon, Tues, Sun) You'll probably need to search online for the appropriate method."
      ]
    },
    {
      "cell_type": "code",
      "metadata": {
        "id": "PVZSJaPQdRQx",
        "colab_type": "code",
        "colab": {}
      },
      "source": [
        "# EXERCISE\n",
        "\n",
        "# YOUR CODE HERE"
      ],
      "execution_count": 0,
      "outputs": []
    },
    {
      "cell_type": "markdown",
      "metadata": {
        "id": "_mLlK5ivXksZ",
        "colab_type": "text"
      },
      "source": [
        "## Data Summarization & Aggregation"
      ]
    },
    {
      "cell_type": "markdown",
      "metadata": {
        "id": "UOElWZ9AXksc",
        "colab_type": "text"
      },
      "source": [
        "Much like Excel, we can perform operations such as *summations, averages, and counting* on the rows of a table."
      ]
    },
    {
      "cell_type": "code",
      "metadata": {
        "id": "JAL_SwV81Tl6",
        "colab_type": "code",
        "colab": {}
      },
      "source": [
        "# Note that count() only counts non-null values\n",
        "df.count()"
      ],
      "execution_count": 0,
      "outputs": []
    },
    {
      "cell_type": "markdown",
      "metadata": {
        "id": "F2H5_4GX3tBF",
        "colab_type": "text"
      },
      "source": [
        "The `.describe()` method gives us a quick way of doing these sorts of aggregations all at once."
      ]
    },
    {
      "cell_type": "code",
      "metadata": {
        "id": "94MMV1xcXksa",
        "colab_type": "code",
        "colab": {}
      },
      "source": [
        "# Get a 5-number summary of the data\n",
        "df.describe()"
      ],
      "execution_count": 0,
      "outputs": []
    },
    {
      "cell_type": "markdown",
      "metadata": {
        "id": "RQVHQGM_8oHY",
        "colab_type": "text"
      },
      "source": [
        "### Grouping"
      ]
    },
    {
      "cell_type": "markdown",
      "metadata": {
        "id": "hPWJ1AGw40SU",
        "colab_type": "text"
      },
      "source": [
        "When aggregating our data, we often want to group it by categorical variables. For example, if you wanted to count the number of requests for each type of service request.\n",
        "\n",
        "For SQL users, this is analogous to querying a table using a `GROUP BY` clause and aggregation functions such as `SUM()` or `COUNT()`. For Excel users, this could be done using a pivot table.\n",
        "\n",
        "In pandas, we have the `.groupby()` method which we can apply aggregation functions to.\n",
        "\n",
        "More reading: https://pandas.pydata.org/pandas-docs/stable/groupby.html"
      ]
    },
    {
      "cell_type": "code",
      "metadata": {
        "id": "2zLjZMN-BDAl",
        "colab_type": "code",
        "colab": {}
      },
      "source": [
        "df.groupby(by='status')"
      ],
      "execution_count": 0,
      "outputs": []
    },
    {
      "cell_type": "code",
      "metadata": {
        "id": "QzRLfUyoC_8q",
        "colab_type": "code",
        "colab": {}
      },
      "source": [
        "df[['address', 'description', 'status']].groupby(by='status').count()"
      ],
      "execution_count": 0,
      "outputs": []
    },
    {
      "cell_type": "code",
      "metadata": {
        "colab_type": "code",
        "id": "S6q3AYJMJluq",
        "colab": {}
      },
      "source": [
        "df.groupby(by='status')['address_id'].count()"
      ],
      "execution_count": 0,
      "outputs": []
    },
    {
      "cell_type": "code",
      "metadata": {
        "colab_type": "code",
        "id": "pqBnyQbvJlum",
        "colab": {}
      },
      "source": [
        "# Counts non-null and null values. That is, number of rows.\n",
        "df.groupby(by='status').size()"
      ],
      "execution_count": 0,
      "outputs": []
    },
    {
      "cell_type": "markdown",
      "metadata": {
        "colab_type": "text",
        "id": "R3M2prbvJluk"
      },
      "source": [
        "#### Exercises \n",
        "1. How many of each type of request are there? Use the column `service_name`.\n",
        "2. How many requests were made on each day of the week? (Mon, Tues, Wed, etc.).\n",
        "3. What's the average actual completion time for each type of request?\n",
        "4. (BONUS) Select all requests made in the month of January 2017. How many types of requests were made this month?\n",
        "5. (BONUS) Double-check if the `service_request_id` is really a unique identifier for each request."
      ]
    },
    {
      "cell_type": "code",
      "metadata": {
        "colab_type": "code",
        "id": "K8Q8-cl-Jluh",
        "colab": {}
      },
      "source": [
        "# EXERCISE 1\n",
        "\n",
        "# YOUR CODE HERE"
      ],
      "execution_count": 0,
      "outputs": []
    },
    {
      "cell_type": "code",
      "metadata": {
        "colab_type": "code",
        "id": "mhgMxXLnJlud",
        "colab": {}
      },
      "source": [
        "# EXERCISE 2\n",
        "\n",
        "# YOUR CODE HERE"
      ],
      "execution_count": 0,
      "outputs": []
    },
    {
      "cell_type": "code",
      "metadata": {
        "colab_type": "code",
        "id": "PnbT19wYJlua",
        "colab": {}
      },
      "source": [
        "# EXERCISE 3\n",
        "\n",
        "# YOUR CODE HERE"
      ],
      "execution_count": 0,
      "outputs": []
    },
    {
      "cell_type": "markdown",
      "metadata": {
        "id": "PeI_SR05CHJn",
        "colab_type": "text"
      },
      "source": [
        "## Plotting"
      ]
    },
    {
      "cell_type": "code",
      "metadata": {
        "id": "24g7uib5Kokg",
        "colab_type": "code",
        "colab": {}
      },
      "source": [
        "# Importing some plotting libraries\n",
        "\n",
        "import matplotlib.pyplot as plt\n",
        "import seaborn as sns\n",
        "sns.set_style(\"darkgrid\")\n"
      ],
      "execution_count": 0,
      "outputs": []
    },
    {
      "cell_type": "code",
      "metadata": {
        "id": "Hb6uO_atI_It",
        "colab_type": "code",
        "colab": {}
      },
      "source": [
        "# Histograms\n",
        "df['actual_completion_time'].plot.hist(bins=100)\n",
        "plt.xlim(0,500)"
      ],
      "execution_count": 0,
      "outputs": []
    },
    {
      "cell_type": "code",
      "metadata": {
        "id": "JhG63B2nd8vY",
        "colab_type": "code",
        "colab": {}
      },
      "source": [
        "# Boxplots\n",
        "# More info on boxplots here: https://math.stackexchange.com/questions/2172520/what-is-difference-between-fliers-ans-whisker-in-boxplot\n",
        "df['actual_completion_time'].plot.box(showfliers=False)\n",
        "\n",
        "plt.ylabel('Actual completion time (days)')\n",
        "plt.show()"
      ],
      "execution_count": 0,
      "outputs": []
    },
    {
      "cell_type": "code",
      "metadata": {
        "id": "zjr3JViuVejE",
        "colab_type": "code",
        "colab": {}
      },
      "source": [
        "df['est_completion_time'].plot.box(showfliers=False)"
      ],
      "execution_count": 0,
      "outputs": []
    },
    {
      "cell_type": "code",
      "metadata": {
        "id": "LQTak87sVcDA",
        "colab_type": "code",
        "colab": {}
      },
      "source": [
        "df[df['service_name'] == 'Bridge - Graffiti Complaint']['actual_completion_time'].hist()"
      ],
      "execution_count": 0,
      "outputs": []
    },
    {
      "cell_type": "code",
      "metadata": {
        "id": "h8RJqM8T0gwr",
        "colab_type": "code",
        "colab": {}
      },
      "source": [
        "df[df['service_name'] == 'Bridge - Graffiti Complaint']['est_completion_time'].plot.box(showfliers=False)"
      ],
      "execution_count": 0,
      "outputs": []
    },
    {
      "cell_type": "code",
      "metadata": {
        "id": "r1LhTj5w0moa",
        "colab_type": "code",
        "colab": {}
      },
      "source": [
        "# Bar plots\n",
        "df.groupby(by=['service_name']).size().sort_values(ascending=False).plot.bar()\n"
      ],
      "execution_count": 0,
      "outputs": []
    },
    {
      "cell_type": "code",
      "metadata": {
        "id": "gYUem9dGcJ8R",
        "colab_type": "code",
        "colab": {}
      },
      "source": [
        "# For temporal variables we can aggregate (or \"resample\") the data to different time periods, such as day, week, and month.\n",
        "# More on this: https://pandas.pydata.org/pandas-docs/version/0.23.4/generated/pandas.Grouper.html\n",
        "df.groupby(pd.Grouper(key='requested_datetime_conv', freq='W')).size().plot(figsize=(15,5), marker='.')\n",
        "plt.title('Total service requests per week')\n",
        "plt.show()"
      ],
      "execution_count": 0,
      "outputs": []
    },
    {
      "cell_type": "code",
      "metadata": {
        "id": "QvYbY0E4SYEi",
        "colab_type": "code",
        "colab": {}
      },
      "source": [
        "# Conditional boxplots\n",
        "df.boxplot(column='actual_completion_time', by='service_name', showfliers=False, rot=45)\n",
        "\n",
        "# df[['actual_completion_time', 'est_completion_time', 'service_name']].boxplot(showfliers=False, by='service_name', rot=30)"
      ],
      "execution_count": 0,
      "outputs": []
    },
    {
      "cell_type": "markdown",
      "metadata": {
        "id": "CInYdNa49k8_",
        "colab_type": "text"
      },
      "source": [
        "#### Exercises \n",
        "\n",
        "1. Plot a histogram of the `est_completion_time` column. What do you notice?\n",
        "2. For a boxplot, what happens if you don't include the argument `showfliers=False`?\n",
        "3. Plot the average `actual_completion_time`, grouped by a date field like month, hour of day, or year.\n"
      ]
    },
    {
      "cell_type": "code",
      "metadata": {
        "id": "YlGLJ4vq9zTP",
        "colab_type": "code",
        "colab": {}
      },
      "source": [
        "# EXERCISE 1\n",
        "\n",
        "# YOUR CODE HERE"
      ],
      "execution_count": 0,
      "outputs": []
    },
    {
      "cell_type": "code",
      "metadata": {
        "id": "2vr5VAt3AA8Q",
        "colab_type": "code",
        "colab": {}
      },
      "source": [
        "# EXERCISE 2\n",
        "\n",
        "# YOUR CODE HERE"
      ],
      "execution_count": 0,
      "outputs": []
    },
    {
      "cell_type": "code",
      "metadata": {
        "id": "0G6671O3AA_N",
        "colab_type": "code",
        "colab": {}
      },
      "source": [
        "# EXERCISE 3\n",
        "\n",
        "# YOUR CODE HERE"
      ],
      "execution_count": 0,
      "outputs": []
    },
    {
      "cell_type": "markdown",
      "metadata": {
        "id": "jmiA5J2HNdR0",
        "colab_type": "text"
      },
      "source": [
        "## Asking & Answering Questions"
      ]
    },
    {
      "cell_type": "markdown",
      "metadata": {
        "id": "FRw3YYJdNheg",
        "colab_type": "text"
      },
      "source": [
        "One important aspect of the data science process is asking good questions. During our simple exploration, you may have already come up with some questions.\n",
        "\n",
        "After this workshop, I encourage you to try and answer some of these with the information we have. \n",
        "\n",
        "In practise, the data will have quirks and business logic that you will need to ask the owners of the dataset about. You'd want to work with stakeholders and decision-makers to prioritize the answers with the highest impact.  "
      ]
    },
    {
      "cell_type": "markdown",
      "metadata": {
        "id": "-oscY6crMynH",
        "colab_type": "text"
      },
      "source": [
        "Some ideas brought up during our workshop:\n",
        "\n",
        "* Can we predict how fast the city will service a request?\n",
        "  \n",
        "* How can we measure similarity between incidents?\n",
        "\n",
        "* Prediction of future requests: where and when will they occur?\n",
        "\n",
        "* If you don't treat graffiti in a specific area, does it cause more graffiti?\n",
        "  * Hypothesis: graffiti causes graffiti\n",
        "  \n",
        "* Do things get resolved faster if it gets posted on SeeClickFix?\n",
        "  \n",
        "* Could this data be useful for building a better service requests triage system?"
      ]
    },
    {
      "cell_type": "markdown",
      "metadata": {
        "id": "FE4O6vEGYElm",
        "colab_type": "text"
      },
      "source": [
        "## (BONUS) Dealing with geospatial data"
      ]
    },
    {
      "cell_type": "markdown",
      "metadata": {
        "id": "IpbGSTfQYKru",
        "colab_type": "text"
      },
      "source": [
        "So far, we haven't touched location-related columns such as `lat`, `long`, `address_id`, and `address`.\n",
        "\n",
        "Example questions:\n",
        "- Explore the `address_id` - what exactly does this column do?\n",
        "- Which areas of the city recieve the most graffiti complaints? Has this changed over the years?\n",
        "- Which regions had the most service requests? How does that compare with the number of people living there?\n"
      ]
    },
    {
      "cell_type": "code",
      "metadata": {
        "id": "cQIYa8SSNQar",
        "colab_type": "code",
        "colab": {}
      },
      "source": [
        "df.columns"
      ],
      "execution_count": 0,
      "outputs": []
    },
    {
      "cell_type": "code",
      "metadata": {
        "id": "49uwZ8D1Y3s1",
        "colab_type": "code",
        "colab": {}
      },
      "source": [
        "# What specific lat/long pairs have a lot of service requests?\n",
        "df.groupby(by=['lat','long']).size().sort_values(ascending=False)"
      ],
      "execution_count": 0,
      "outputs": []
    },
    {
      "cell_type": "code",
      "metadata": {
        "id": "OsqbQxUTp32o",
        "colab_type": "code",
        "colab": {}
      },
      "source": [
        "df.groupby(by=['address_id']).size().sort_values(ascending=False)"
      ],
      "execution_count": 0,
      "outputs": []
    },
    {
      "cell_type": "code",
      "metadata": {
        "id": "-bIUvX4CNb1Z",
        "colab_type": "code",
        "colab": {}
      },
      "source": [
        "df.groupby(by=['address']).size().sort_values(ascending=False)"
      ],
      "execution_count": 0,
      "outputs": []
    },
    {
      "cell_type": "code",
      "metadata": {
        "id": "sc8P30ZoL24X",
        "colab_type": "code",
        "colab": {}
      },
      "source": [
        "# Drill into each of the requests from these\n",
        "\n",
        "df[df['address_id'] == 13467983].groupby(by='service_name').size()"
      ],
      "execution_count": 0,
      "outputs": []
    },
    {
      "cell_type": "code",
      "metadata": {
        "id": "RLnlxOpaJpWo",
        "colab_type": "code",
        "colab": {}
      },
      "source": [
        "# Try plotting the lat/longs on a scatterplot\n",
        "plt.scatter(df['long'], df['lat'], alpha=0.01)\n",
        "plt.show()"
      ],
      "execution_count": 0,
      "outputs": []
    },
    {
      "cell_type": "markdown",
      "metadata": {
        "id": "3QrWbyW5qg1K",
        "colab_type": "text"
      },
      "source": [
        "### Mapping"
      ]
    },
    {
      "cell_type": "markdown",
      "metadata": {
        "id": "1fuSdmYn6Puv",
        "colab_type": "text"
      },
      "source": [
        "Let's try to plot these points on a map. We'll use the `folium` library to do this."
      ]
    },
    {
      "cell_type": "code",
      "metadata": {
        "id": "OROBCQ7uqgJC",
        "colab_type": "code",
        "colab": {}
      },
      "source": [
        "from folium import plugins\n",
        "from folium.plugins import HeatMap\n",
        "from folium.plugins import MarkerCluster\n",
        "import folium"
      ],
      "execution_count": 0,
      "outputs": []
    },
    {
      "cell_type": "code",
      "metadata": {
        "id": "veKNVKI2Rnq2",
        "colab_type": "code",
        "colab": {}
      },
      "source": [
        "# Exercise: Try plotting a different location in Toronto\n",
        "\n",
        "map = folium.Map(location=[43.6532, -79.3832], \n",
        "                 zoom_start=14, \n",
        "#                  width=500, \n",
        "#                  height=500,\n",
        "                ) \n",
        "\n",
        "# Place a marker on the map\n",
        "folium.Marker([43.659622, -79.397669], popup=\"Hey that's where we are!\").add_to(map)\n",
        "\n",
        "# Place a circle marker on the map\n",
        "folium.CircleMarker([43.669978, -79.390157], popup='This is a circle marker', radius=50).add_to(map)\n",
        "\n",
        "# Display the map\n",
        "map"
      ],
      "execution_count": 0,
      "outputs": []
    },
    {
      "cell_type": "code",
      "metadata": {
        "id": "Jqoc67vk38gY",
        "colab_type": "code",
        "colab": {}
      },
      "source": [
        "# Note: we can use question marks to view docstrings\n",
        "folium.CircleMarker?"
      ],
      "execution_count": 0,
      "outputs": []
    },
    {
      "cell_type": "code",
      "metadata": {
        "id": "SyOy7K3-U-L2",
        "colab_type": "code",
        "colab": {}
      },
      "source": [
        "# Plotting all service requests in a single day\n",
        "\n",
        "date_range_mask = (df['requested_datetime_conv'] >= '2016-08-16') & (df['requested_datetime_conv'] < '2016-08-17')\n",
        "df_oneday = df[date_range_mask]\n",
        "map2 = folium.Map(location=[43.6532, -79.3832], zoom_start=14) \n",
        "  \n",
        "# Loop through each row, add a marker\n",
        "for idx, r in df_oneday.iterrows():\n",
        "  folium.CircleMarker([r['lat'], r['long']], popup=r['service_name'], radius=5).add_to(map2)\n",
        "  \n",
        "map2"
      ],
      "execution_count": 0,
      "outputs": []
    },
    {
      "cell_type": "code",
      "metadata": {
        "id": "nwWfJrYSWn9l",
        "colab_type": "code",
        "colab": {}
      },
      "source": [
        "# Plotting all service requests in a month\n",
        "\n",
        "date_range_mask = (df['requested_datetime_conv'] >= '2016-08-16') & (df['requested_datetime_conv'] < '2016-08-24')\n",
        "df_onemonth = df[date_range_mask]\n",
        "map3 = folium.Map(location=[43.6532, -79.3832], zoom_start=14) \n",
        "  \n",
        "# Loop through each row, add a marker\n",
        "for idx, r in df_onemonth.iterrows():\n",
        "  folium.CircleMarker([r['lat'], r['long']], radius=25, fill_color='green', color='green',  popup=r['service_name']).add_to(map3)\n",
        "  \n",
        "map3"
      ],
      "execution_count": 0,
      "outputs": []
    },
    {
      "cell_type": "code",
      "metadata": {
        "id": "KChdwYRueabS",
        "colab_type": "code",
        "colab": {}
      },
      "source": [
        "# Markerclusters are cleaner for many markers\n",
        "from folium.plugins import MarkerCluster\n",
        "\n",
        "map4 = folium.Map(location=[43.6532, -79.3832], zoom_start=13) \n",
        "  \n",
        "marker_cluster = MarkerCluster().add_to(map4)\n",
        "\n",
        "# Loop through each row, add a marker\n",
        "for idx, r in df_onemonth.iterrows():\n",
        "  folium.CircleMarker([r['lat'], r['long']], radius=15, fill_color='green', color='green',  popup=r['service_name']).add_to(marker_cluster)\n",
        "  \n",
        "map4"
      ],
      "execution_count": 0,
      "outputs": []
    },
    {
      "cell_type": "code",
      "metadata": {
        "id": "jWaWiAJ6kuDP",
        "colab_type": "code",
        "colab": {}
      },
      "source": [
        "date_range_mask = (df['service_name'] != 'Road - Pot hole') & (df['requested_datetime_conv'] >= '2016-09-01') & (df['requested_datetime_conv'] < '2016-12-31')\n",
        "df_graffiti = df[date_range_mask]"
      ],
      "execution_count": 0,
      "outputs": []
    },
    {
      "cell_type": "code",
      "metadata": {
        "id": "MQHnjaUJRluo",
        "colab_type": "code",
        "colab": {}
      },
      "source": [
        "# Heatmaps are pretty :)\n",
        "# However, interpret them with care! https://xkcd.com/1138/\n",
        "\n",
        "hm = folium.Map(location=[43.6532, -79.3832], zoom_start=13) \n",
        "\n",
        "# List comprehension to make a list of lists\n",
        "request_pts = [[row['lat'], row['long']] for index, row in df_graffiti.iterrows()]\n",
        "\n",
        "\n",
        "HeatMap(request_pts).add_to(hm)\n",
        "\n",
        "\n",
        "# Display the map\n",
        "hm"
      ],
      "execution_count": 0,
      "outputs": []
    },
    {
      "cell_type": "markdown",
      "metadata": {
        "id": "mQJj-mPXfvfg",
        "colab_type": "text"
      },
      "source": [
        "Future work:\n",
        "- How can we divide the city into different regions and categorize requests by area?\n",
        "- Which areas take longest to service?\n",
        "- Can we make a heatmap of request volume over time?\n"
      ]
    },
    {
      "cell_type": "markdown",
      "metadata": {
        "id": "-erI_QSUXksl",
        "colab_type": "text"
      },
      "source": [
        " ## Looking ahead\n",
        "\n",
        "[More info](https://www.toronto.ca/city-government/data-research-maps/open-data/open-data-catalogue/#e2634d40-0dbf-4d91-12fa-83f039307e93) on the Open311 API.\n",
        "\n",
        "You might want to run notebooks like this one on your local machine. These can be set up locally as [Jupyter Notebooks](https://jupyter.org/).\n",
        "\n",
        "Learn how to [automating boring, tedious tasks with Python.](https://automatetheboringstuff.com/)\n",
        "\n",
        "[A fast Python reference](https://learnxinyminutes.com/docs/python/)\n",
        "\n",
        "A [style guide](https://www.python.org/dev/peps/pep-0008/) for writing Python code.\n",
        "\n",
        "[Codecademy](https://www.codecademy.com/catalog/language/python) is a fantastic place to learn Python essentials.\n",
        "\n",
        "A [quick primer](https://pandas.pydata.org/pandas-docs/stable/10min.html) on the pandas library.\n",
        "\n",
        "Some [clarification](https://stackoverflow.com/questions/26047209/what-is-the-difference-between-a-pandas-series-and-a-single-column-dataframe) on the difference between a `Series` and a `DataFrame` object.  \n",
        "\n",
        "## Next steps\n",
        "\n",
        "- Other cities may have Open311 datasets for the public to view - [Edmonton](https://data.edmonton.ca/City-Administration/311-Requests/q7ua-agfg), for example. Try building your own analysis from scratch! \n",
        "- Try collecting data from another API (such as Twitter, Facebook, Github, etc.) and bringing it into a Jupyter or Colab notebook.\n",
        "- Check out another dataset of Toronto service requests [here](https://www.toronto.ca/city-government/data-research-maps/open-data/open-data-catalogue/#2fc027de-d27a-2a00-1388-6849497cb84c). It seems to contain a variety of other service request types we don't see in this notebook's dataset, including \"Watermain-Possible Break\", \"Litter / Illegal Dumping Cleanup\", and \"CADAVER WILDLIFE\"."
      ]
    },
    {
      "cell_type": "markdown",
      "metadata": {
        "id": "Rkv9v9-KXkqm",
        "colab_type": "text"
      },
      "source": [
        "## Appendix - The Open311 API\n"
      ]
    },
    {
      "cell_type": "markdown",
      "metadata": {
        "id": "acIdQt0VXkqn",
        "colab_type": "text"
      },
      "source": [
        "This section documents how the dataset was collected."
      ]
    },
    {
      "cell_type": "markdown",
      "metadata": {
        "id": "HUHOI6LFXkqo",
        "colab_type": "text"
      },
      "source": [
        "##### Exercise 1 \n",
        "\n",
        "Let's try calling the Open 311 API directly through our browser. Copy and paste this URL into your browser: \n",
        "\n",
        "`https://secure.toronto.ca/webwizard/ws/requests.json?start_date=2012-02-01T00:00:00Z&end_date=2012-02-07T00:00:00Z&jurisdiction_id=toronto.ca`\n",
        "\n",
        "What do you see? What do you think this URL does?"
      ]
    },
    {
      "cell_type": "markdown",
      "metadata": {
        "id": "V8EkNuFiXkqo",
        "colab_type": "text"
      },
      "source": [
        "##### Exercise 2\n",
        "\n",
        "*SeeClickFix* is a web tool used for citizens to report non-emergency neighbourhood issues to their local government. To see issues reported for Toronto, go here:\n",
        "\n",
        "- https://seeclickfix.com/can_toronto\n",
        "\n",
        "Scroll through the various issues being reported. Some issues are assigned Request ID's by the user \"Open311 Toronto\". A couple of examples:\n",
        "\n",
        "- https://seeclickfix.com/issues/5283320-derelict-abandoned-bicycle-danforth-ave-e-of-playter\n",
        "- https://seeclickfix.com/issues/5272857-king-st-e-and-sherbourne-st-pedestrian-crossing-signal-countdown-missing-failed\n",
        "\n",
        "Let's view these issues directly through the API. Similarly to *Exercise 1*, pick one of these two links and make a request for that issue.\n",
        "\n",
        "Hint: We won't need the `start_date` or `end_date` arguments in our query string. But we'll need `jurisdiction_id` and `service_request_id`.\n",
        "\n",
        "Something to note for later: \"Please note that we only have graffiti and pothole templates to choose from in the mobile app, so are forced to submit non-pothole issues as Graffiti on a City Road, as this template is known to go to Transportation Services. Thank you.\""
      ]
    },
    {
      "cell_type": "markdown",
      "metadata": {
        "id": "-xfiTefTXkqq",
        "colab_type": "text"
      },
      "source": [
        "### Python Requests"
      ]
    },
    {
      "cell_type": "markdown",
      "metadata": {
        "id": "A8AZKXL4Xkqr",
        "colab_type": "text"
      },
      "source": [
        "Now let's make the same query programmatically in Python, via the `requests` library."
      ]
    },
    {
      "cell_type": "code",
      "metadata": {
        "id": "g-XY5m8GXkqr",
        "colab_type": "code",
        "colab": {}
      },
      "source": [
        "ENDPOINT = \"https://secure.toronto.ca/webwizard/ws/requests.json?\"\n",
        "\n",
        "# Using Exercise 2's parameters\n",
        "params = {\n",
        "            \"service_request_id\": \"101005679196\",\n",
        "            \"jurisdiction_id\":\"toronto.ca\",\n",
        "         }\n",
        "\n",
        "# Make a GET request and save the response to a variable\n",
        "resp = requests.get(ENDPOINT, params=params)\n",
        "\n",
        "# View the URL it used to make the request\n",
        "resp.url"
      ],
      "execution_count": 0,
      "outputs": []
    },
    {
      "cell_type": "code",
      "metadata": {
        "id": "1UDqJ70iXkqv",
        "colab_type": "code",
        "colab": {}
      },
      "source": [
        "# Get the response's text\n",
        "resp.text"
      ],
      "execution_count": 0,
      "outputs": []
    },
    {
      "cell_type": "code",
      "metadata": {
        "id": "k8DQ5nY_Xkqz",
        "colab_type": "code",
        "colab": {}
      },
      "source": [
        "# Decode the response's text to JSON.\n",
        "resp_json = resp.json()\n",
        "resp_json"
      ],
      "execution_count": 0,
      "outputs": []
    },
    {
      "cell_type": "markdown",
      "metadata": {
        "id": "AVjfXn9lXkq1",
        "colab_type": "text"
      },
      "source": [
        "##### Exercise 3\n",
        "\n",
        "Modify the above cells to make the same request as Exercise 1."
      ]
    },
    {
      "cell_type": "code",
      "metadata": {
        "id": "oNYRDKmAzyEf",
        "colab_type": "code",
        "colab": {}
      },
      "source": [
        "params_ex1 = {\n",
        "            \"start_date\": \"2012-02-01T00:00:00Z\",\n",
        "            \"end_date\": \"2012-02-07T00:00:00Z\",\n",
        "            \"jurisdiction_id\":\"toronto.ca\",\n",
        "         }\n",
        "\n",
        "\n",
        "resp = requests.get(ENDPOINT, params=params_ex1)\n",
        "\n",
        "resp.json()"
      ],
      "execution_count": 0,
      "outputs": []
    },
    {
      "cell_type": "markdown",
      "metadata": {
        "id": "NIV7DmHaXkq1",
        "colab_type": "text"
      },
      "source": [
        "##### Exercise 4\n",
        "\n",
        "Get all service requests between Mar 1 2018 and Mar 5 2018, inclusive.\n"
      ]
    },
    {
      "cell_type": "code",
      "metadata": {
        "id": "Dftb6iVu0IFv",
        "colab_type": "code",
        "colab": {}
      },
      "source": [
        "params_ex4 = {\n",
        "            \"start_date\": \"2012-03-01T00:00:00Z\",\n",
        "            \"end_date\": \"2012-02-07T00:00:00Z\",\n",
        "            \"jurisdiction_id\":\"toronto.ca\",\n",
        "         }\n",
        "\n",
        "\n",
        "resp = requests.get(ENDPOINT, params=params_ex1)\n",
        "\n",
        "resp.json()"
      ],
      "execution_count": 0,
      "outputs": []
    },
    {
      "cell_type": "markdown",
      "metadata": {
        "id": "FSatYR98Xkq3",
        "colab_type": "text"
      },
      "source": [
        "##### Exercise 5\n",
        "\n",
        "Try retrieving all service requests made in 2018. How many were made? Does this number make sense?"
      ]
    },
    {
      "cell_type": "code",
      "metadata": {
        "id": "_C7537j90ONY",
        "colab_type": "code",
        "colab": {}
      },
      "source": [
        "# If you try this, you'll find that only 1000 requests in total are returned."
      ],
      "execution_count": 0,
      "outputs": []
    },
    {
      "cell_type": "markdown",
      "metadata": {
        "id": "ZHk7NaO-Xkq3",
        "colab_type": "text"
      },
      "source": [
        "### Dealing with API limitations"
      ]
    },
    {
      "cell_type": "markdown",
      "metadata": {
        "id": "lWXGr9wlXkq4",
        "colab_type": "text"
      },
      "source": [
        "According to the Toronto Open311 documentation, responses can only return up to 1000 service requests per API call. If we want to collect all service requests in a wide date range (say, in *Exercise 5*), this is an issue.\n",
        "\n",
        "Other APIs will likely require authentication from the user via an API token, usually passed as a parameter in the request. They may also have limitations on the number of requests you can make per second/hour/etc.\n",
        "\n",
        "##### Bonus reading\n",
        "- http://www.open311.org/\n",
        "- https://www.toronto.ca/city-government/data-research-maps/open-data/open-data-catalogue/#e2634d40-0dbf-4d91-12fa-83f039307e93"
      ]
    },
    {
      "cell_type": "markdown",
      "metadata": {
        "id": "Rd-y28-PXkq5",
        "colab_type": "text"
      },
      "source": [
        "One way to get around a response-size limitation is to break our date range into N contiguous subintervals and make multiple API calls for each one. How can we do this programmatically?\n",
        "\n",
        "\n",
        "\n"
      ]
    },
    {
      "cell_type": "markdown",
      "metadata": {
        "id": "r5UpU7Q_Xkq5",
        "colab_type": "text"
      },
      "source": [
        "### Working with date strings\n",
        "\n",
        "If you've used Excel before, dates are actually processed as numbers. This allows easy date operations such as \n",
        "- Adding one hour/day/month/etc. to a date\n",
        "- sorting by date\n",
        "- finding the time difference between two dates\n",
        "\n",
        "Similarly, Python has the `datetime` module for working with dates/times."
      ]
    },
    {
      "cell_type": "code",
      "metadata": {
        "id": "6ERXksmKXkq6",
        "colab_type": "code",
        "colab": {}
      },
      "source": [
        "def date_range(start, end, N, tz_string=\"-05:00\"):\n",
        "    \"\"\"Splits a given date range into N contiguous subintervals in ISO8601 timestamp format. \n",
        "    \n",
        "    start and end must be strings in \"YYYYMMDD\" format.\n",
        "    tz_string assumed to be Toronto timezone.\n",
        "    \n",
        "    \"\"\"\n",
        "    start = datetime.strptime(start,\"%Y%m%d\")\n",
        "    end = datetime.strptime(end,\"%Y%m%d\")\n",
        "    diff = (end  - start ) / N\n",
        "    dates = []\n",
        "    for i in range(N):\n",
        "        dates += [(start + diff * i).strftime(\"%Y-%m-%dT%H:%M:%S\") + tz_string]\n",
        "    dates += [end.strftime(\"%Y-%m-%dT%H:%M:%S\") + tz_string]\n",
        "    return dates"
      ],
      "execution_count": 0,
      "outputs": []
    },
    {
      "cell_type": "code",
      "metadata": {
        "id": "XebcasC8Xkq8",
        "colab_type": "code",
        "colab": {}
      },
      "source": [
        "# Trying out our date_range function\n",
        "dates = date_range('20180301', '20180305', 7)\n",
        "dates"
      ],
      "execution_count": 0,
      "outputs": []
    },
    {
      "cell_type": "markdown",
      "metadata": {
        "id": "jV3E4USfXkq_",
        "colab_type": "text"
      },
      "source": [
        "Next, we'll to loop over this list and call the API for each interval. For each call we'll add the results to the `service_requests` list.\n",
        "\n"
      ]
    },
    {
      "cell_type": "code",
      "metadata": {
        "id": "kj_KwcckXkrA",
        "colab_type": "code",
        "colab": {}
      },
      "source": [
        "service_requests = []\n",
        "\n",
        "for i, d in enumerate(dates[:-1]):\n",
        "    curr_params = {\n",
        "        \"start_date\": dates[i],\n",
        "        \"end_date\": dates[i+1],\n",
        "        \"jurisdiction_id\":\"toronto.ca\"\n",
        "     }\n",
        "    resp = requests.get(ENDPOINT, params=curr_params)\n",
        "    resp_json = resp.json()['service_requests']\n",
        "    service_requests += resp_json\n",
        "    print(\"Step {0}: {1} to {2}, number of results: {3}\".format(i, dates[i], dates[i+1], len(resp_json)))"
      ],
      "execution_count": 0,
      "outputs": []
    },
    {
      "cell_type": "code",
      "metadata": {
        "id": "AatRpkK01FjH",
        "colab_type": "code",
        "colab": {}
      },
      "source": [
        "# View 3 examples\n",
        "service_requests[:3]"
      ],
      "execution_count": 0,
      "outputs": []
    },
    {
      "cell_type": "markdown",
      "metadata": {
        "id": "Vm2RhcUPXkrI",
        "colab_type": "text"
      },
      "source": [
        "##### Extra Credit \n",
        "\n",
        "- How can we make our `fetch_data` function more robust? Say, if a particular request fails? Or if the request returns None?\n",
        "\n",
        "- After this workshop, try collecting 3 years' worth of requests. You might want to save your intermediate results to a file as you iterate through your date range, in case your notebook crashes or some requests fail. More info on file I/O: https://colab.research.google.com/notebooks/io.ipynb\n",
        "\n"
      ]
    },
    {
      "cell_type": "markdown",
      "metadata": {
        "id": "PITqBwf2XkrJ",
        "colab_type": "text"
      },
      "source": [
        "#### Saving the data to a DataFrame"
      ]
    },
    {
      "cell_type": "code",
      "metadata": {
        "id": "LNXd_bpRJ14Q",
        "colab_type": "code",
        "colab": {}
      },
      "source": [
        "# Encode our list into a JSON string\n",
        "json_str = json.dumps(service_requests)\n",
        "\n",
        "# Read the JSON string into a DataFrame\n",
        "df = pd.read_json(json_str, orient='records')\n",
        "\n",
        "df"
      ],
      "execution_count": 0,
      "outputs": []
    }
  ]
}